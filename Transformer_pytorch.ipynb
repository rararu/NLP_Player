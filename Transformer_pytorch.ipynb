{
  "nbformat": 4,
  "nbformat_minor": 0,
  "metadata": {
    "colab": {
      "name": "Transformer_pytorch.ipynb",
      "provenance": [],
      "collapsed_sections": []
    },
    "kernelspec": {
      "name": "python3",
      "display_name": "Python 3"
    },
    "language_info": {
      "name": "python"
    }
  },
  "cells": [
    {
      "cell_type": "code",
      "source": [
        "import numpy as np\n",
        "import torch\n",
        "import torch.nn as nn\n",
        "import torch.nn.functional as F\n",
        "import math, copy, time\n",
        "from torch.autograd import Variable\n",
        "import matplotlib.pyplot as plt\n",
        "import seaborn\n",
        "seaborn.set_context(context=\"talk\")\n",
        "%matplotlib inline"
      ],
      "metadata": {
        "id": "ywr8iGNC-Wmb"
      },
      "execution_count": 7,
      "outputs": []
    },
    {
      "cell_type": "code",
      "source": [
        "class Transformer(nn.Module):\n",
        "\n",
        "  def __init__(self, encoder, decoder):\n",
        "    super(Transformer, self).__init__()\n",
        "    self.encoder=encoder\n",
        "    self.decoder=decoder\n",
        "\n",
        "  def forward(self,x,z):\n",
        "    c=self.encoder(x)\n",
        "    y=self.decoder(z,c)\n",
        "    return y\n",
        "    "
      ],
      "metadata": {
        "id": "AInlT9RAAWq6"
      },
      "execution_count": 8,
      "outputs": []
    },
    {
      "cell_type": "markdown",
      "source": [
        "Encoder는 겹겹 층을 쌓는 구조로 이루어져 있다. Encoder Layer는 input과 output의 형태가 동일하다. 어떤 matrix를 input으로 받는다고 했을 때, Encoder Layer가 도출해내는 output은 input과 동일한 shape이다. \n"
      ],
      "metadata": {
        "id": "jIlSzqW9A-Om"
      }
    },
    {
      "cell_type": "markdown",
      "source": [
        "동일한 크기로 결과를 내는데 왜 층을 쌓는지에 대해서는 Encoder Layer는 input으로 들어오는 vector에 대해서 더 높은 차원에서의 context를 담기 때문에 더 높은 차원의 context라는 것은 더 추상적이다라는 의미 "
      ],
      "metadata": {
        "id": "UzXXVXiqBc3T"
      }
    },
    {
      "cell_type": "code",
      "source": [
        "class Encoder(nn.Module):\n",
        "\n",
        "  def __init__(self, encoder_layer,n_layer):\n",
        "    super(Encoder,self).__init__()\n",
        "    self.layers=[]\n",
        "    for i in range(n_layer):\n",
        "      self.layers.append(copy.deepcopy(encoder_layer))\n",
        "\n",
        "\n",
        "  def forward(self,x):\n",
        "    out=x\n",
        "    for layer in self.layers:\n",
        "      out=layer(out)\n",
        "\n",
        "    return out\n",
        "\n"
      ],
      "metadata": {
        "id": "Ma0HW_waA83t"
      },
      "execution_count": 9,
      "outputs": []
    },
    {
      "cell_type": "code",
      "source": [
        "class EncoderLayer(nn.Module):\n",
        "\n",
        "  def __init__(self,multi_head_attention_layer,position_wise_feed_forward_layer):\n",
        "    super(EncoderLayer,self).__init__()\n",
        "    self.multi_head_attention_layer=multi_head_attention_layer\n",
        "    self.position_wise_feed_forward_layer=position_wise_feed_forward_layer\n",
        "\n",
        "  def forward(self,x):\n",
        "    out=self.multi_head_attention_layer(x)\n",
        "    out=self.position_wise_feed_forward_layer(out)\n",
        "    return out\n",
        "  \n",
        "  "
      ],
      "metadata": {
        "id": "sfT_3UQxCHpL"
      },
      "execution_count": 10,
      "outputs": []
    },
    {
      "cell_type": "code",
      "source": [
        "def calculate_attention(self,query,key,value,mask):\n",
        "  d_k=key.size(-1)\n",
        "  attention_score=torch.matmul(query,key.transpose(-2,-1))\n",
        "  attention_score=attention_score/math.sqrt(d_k)\n",
        "\n",
        "  if mask is not None:\n",
        "    attention_score=score.masked_fill(mask==0,-1e9)\n",
        "\n",
        "  attention_prob=F.softmax(score,dim=-1)\n",
        "  out=torch.matmul(attention_prob,value)\n",
        "\n",
        "  return out\n",
        "  "
      ],
      "metadata": {
        "id": "JYR49-YkCppE"
      },
      "execution_count": 11,
      "outputs": []
    },
    {
      "cell_type": "code",
      "source": [
        "class MultiHeadAttentionLayer(nn.Module):\n",
        "  def __init__(self,d_model,h,qkv_fc_layer,fc_layer):\n",
        "    super(MultiHeadAttentionLayer,self).__init__()\n",
        "    self.d_model=d_model\n",
        "    self.h=h\n",
        "    self.query_fc_layer=copy.deepcopy(qkv_fc_layer)\n",
        "    self.key_fc_layer=copy.deepcopy(qkv_fc_layer)\n",
        "    self.value_fc_layer=copy.deepcopy(qkv_fc_layer)\n",
        "    self.fc_layer=fc_layer\n",
        "\n",
        "  def forward(self,query,key,value,mask=None):\n",
        "    n_batch=query.shape[0]\n",
        "\n",
        "    def transform(x,fc_layer):\n",
        "      out=fc_layer(x)\n",
        "      out=out.view(n_batch,-1,self.h,self.d_model//self.h)\n",
        "      out=out.transpose(1,2)\n",
        "      return out\n",
        "    \n",
        "    query=transform(query,self.query_fc_layer)\n",
        "    key=transform(key,self.key_fc_layer)\n",
        "    value=transform(value,self.value_fc_layer)\n",
        "\n",
        "    if mask is not None:\n",
        "      mask=mask.unsqueeze(1)\n",
        "    \n",
        "    out=self.calculate_attention(query,key,value,mask)\n",
        "    out=out.transpose(1,2)\n",
        "    out=contiguous().view(n_batch,-1,self.d_model)\n",
        "    out=self.fc_layer(out)\n",
        "\n",
        "    return out\n"
      ],
      "metadata": {
        "id": "oZrIi3M5MNSK"
      },
      "execution_count": 18,
      "outputs": []
    },
    {
      "cell_type": "code",
      "source": [
        "def calculate_attention(self,query,key,value,mask):\n",
        "  d_k=key.size(-1)\n",
        "  attention_score=torch.matmul(query,key.transpose(-2,-1))\n",
        "  attention_score=attention_score/math.sqrt(d_k)\n",
        "\n",
        "  if mask is not None:\n",
        "    attention_score=score.masked_fill(mask==0,-1e9)\n",
        "  attention_prob=F.softmax(score,dim=-1)\n",
        "  out=torch.matmul(attention_prob,value)\n",
        "\n",
        "  return out"
      ],
      "metadata": {
        "id": "ZNYpCYYBPEs6"
      },
      "execution_count": 19,
      "outputs": []
    },
    {
      "cell_type": "code",
      "source": [
        "class EncoderLayer(nn.Module):\n",
        "\n",
        "  def __init__(self,multi_head_attention_layer,position_wise_feed_forward_layer):\n",
        "    super(EncoderLayer,self).__init__()\n",
        "    self.multi_head_attention_layer=multi_head_attention_layer\n",
        "    self.multi_position_wise_feed_forward_layer=position_wise_feed_forward_layer\n",
        "\n",
        "  def forward(self,x,mask):\n",
        "    out=self.multi_head_attention_layer(query=x,key=x,value=x,mask=mask)\n",
        "    out=self.multi_position_wise_feed_forward_layer(out)\n",
        "    return out"
      ],
      "metadata": {
        "id": "TsFQkMYARXLo"
      },
      "execution_count": 20,
      "outputs": []
    },
    {
      "cell_type": "code",
      "source": [
        "class Encoder(nn.Module):\n",
        "\n",
        "  def __init__(self,encoder_layer,n_layer):\n",
        "    super(Encoder,self).__init__()\n",
        "    self.layers=[]\n",
        "    for i in range(n_layer):\n",
        "      self.layers.append(copy.deepcopy(encoder_layer))\n",
        "\n",
        "  def forward(self,x,mask):\n",
        "    out=x\n",
        "    for layer in self.layers:\n",
        "      out=layer(out,mask)\n",
        "    return out\n",
        "    "
      ],
      "metadata": {
        "id": "f9wv2SrkSOlk"
      },
      "execution_count": 21,
      "outputs": []
    },
    {
      "cell_type": "code",
      "source": [
        "class Transformer(nn.Module):\n",
        "\n",
        "\tdef __init__(self, encoder, decoder):\n",
        "\t\tsuper(Transformer, self).__init__()\n",
        "\t\tself.encoder = encoder\n",
        "\t\tself.decoder = decoder\n",
        "\n",
        "\tdef forward(self, src, trg, mask):\n",
        "\t\tencoder_output = self.encoder(src, mask)\n",
        "\t\tout = self.decoder(trg, encoder_output)\n",
        "\t\treturn out"
      ],
      "metadata": {
        "id": "Ne1YTZoWSnvO"
      },
      "execution_count": 22,
      "outputs": []
    },
    {
      "cell_type": "code",
      "source": [
        "class PositionWiseFeedForwardLayer(nn.Module):\n",
        "\tdef __init__(self, first_fc_layer, second_fc_layer):\n",
        "\t\tself.first_fc_layer = first_fc_layer\n",
        "\t\tself.second_fc_layer = second_fc_layer\n",
        "\t\n",
        "\tdef forward(self, x):\n",
        "\t\tout = self.first_fc_layer(x)\n",
        "\t\tout = F.relu(out)\n",
        "\t\tout = self.dropout(out)\n",
        "\t\tout = self.second_fc_layer(out)\n",
        "\t\treturn out"
      ],
      "metadata": {
        "id": "iLAmXyQaTRLs"
      },
      "execution_count": 23,
      "outputs": []
    },
    {
      "cell_type": "code",
      "source": [
        "class ResidualConnectionLayer(nn.Module):\n",
        "\tdef __init__(self, norm_layer):\n",
        "\t\tsuper(ResidualConnectionLayer, self).__init__()\n",
        "\t\tself.norm_layer = norm_layer\n",
        "\n",
        "\tdef forward(self, x, sub_layer):\n",
        "\t\tout = sub_layer(x) + x\n",
        "\t\tout = self.norm_layer(out)\n",
        "\t\treturn out"
      ],
      "metadata": {
        "id": "82SQ-USGTTuK"
      },
      "execution_count": 24,
      "outputs": []
    },
    {
      "cell_type": "code",
      "source": [
        "class EncoderLayer(nn.Module):\n",
        "\n",
        "\tdef __init__(self, multi_head_attention_layer, position_wise_feed_forward_layer, norm_layer):\n",
        "\t\tsuper(EncoderLayer, self).__init__()\n",
        "\t\tself.multi_head_attention_layer = multi_head_attention_layer\n",
        "\t\tself.position_wise_feed_forward_layer = position_wise_feed_forward_layer\n",
        "\t\tself.residual_connection_layers = [ResidualConnectionLayer(copy.deepcopy(norm_layer)) for i in range(2)]\n",
        "\n",
        "\tdef forward(self, x, mask):\n",
        "\t\tout = self.residual_connection_layers[0](x, lambda x: self.multi_head_attention_layer(x, x, x, mask))\n",
        "\t\tout = self.residual_connection_layers[1](x, lambda x: self.position_wise_feed_forward_layer(x))\n",
        "\t\treturn out"
      ],
      "metadata": {
        "id": "1Y49Xs5ETVez"
      },
      "execution_count": 25,
      "outputs": []
    },
    {
      "cell_type": "code",
      "source": [
        "def subsequent_mask(size):\n",
        "\tatten_shape = (1, size, size)\n",
        "\tmask = np.triu(np.ones(atatn_shape), k=1).astype('uint8') # masking with upper triangle matrix\n",
        "\treturn torch.from_numpy(mask)==0 # reverse (masking=False, non-masking=True)\n",
        "\n",
        "def make_std_mask(tgt, pad):\n",
        "\ttgt_mask = (tgt != pad) # pad masking\n",
        "\ttgt_mask = tgt_mask.unsqueeze(-2) # reshape (n_batch, seq_len) -> (n_batch, 1, seq_len)\n",
        "\ttgt_mask = tgt_mask & Variable(subsequent_mask(tgt.size(-1)).type_as(tgt_mask.data)) # pad_masking & subsequent_masking\n",
        "\treturn tgt_mask"
      ],
      "metadata": {
        "id": "ZIub5jIuTWqt"
      },
      "execution_count": 26,
      "outputs": []
    },
    {
      "cell_type": "code",
      "source": [
        "class Transformer(nn.Module):\n",
        "\n",
        "\tdef __init__(self, encoder, decoder):\n",
        "\t\tsuper(Transformer, self).__init__()\n",
        "\t\tself.encoder = encoder\n",
        "\t\tself.decoder = decoder\n",
        "\n",
        "\tdef forward(self, src, trg, src_mask, trg_mask):\n",
        "\t\tencoder_output = self.encoder(src, src_mask)\n",
        "\t\tout = self.decoder(trg, trg_mask, encoder_output)\n",
        "\t\treturn out"
      ],
      "metadata": {
        "id": "3jpnwi9MTaZl"
      },
      "execution_count": 27,
      "outputs": []
    },
    {
      "cell_type": "code",
      "source": [
        "class Decoder(nn.Module):\n",
        "\tdef __init__(self, sub_layer, n_layer):\n",
        "\t\tsuper(Decoder, self).__init__()\n",
        "\t\tself.layers = []\n",
        "\t\tfor i in range(n_layer):\n",
        "\t\t\tself.layers.append(copy.deepcopy(sub_layer))\n",
        "\n",
        "\tdef forward(self, x, mask, encoder_output, encoder_mask):\n",
        "\t\tout = x\n",
        "\t\tfor layer in self.layers:\n",
        "\t\t\tout = layer(out, mask, encoder_output, encoder_mask)\n",
        "\t\treturn out"
      ],
      "metadata": {
        "id": "dSyKY-kqTb6b"
      },
      "execution_count": 28,
      "outputs": []
    },
    {
      "cell_type": "code",
      "source": [
        "class DecoderLayer(nn.Module):\n",
        "\tdef __init__(self, masked_multi_head_attention_layer, multi_head_attention_layer, position_wise_feed_forward_layer, norm_layer):\n",
        "\t\tsuper(DecoderLayer, self).__init__()\n",
        "\t\tself.masked_multi_head_attention_layer = ResidualConnectionLayer(masked_multi_head_attention_layer, copy.deepcopy(norm_layer))\n",
        "\t\tself.multi_head_attention_layer = ResidualConnectionLayer(multi_head_attention_layer, copy.deepcopy(norm_layer))\n",
        "\t\tself.position_wise_feed_forward_layer = ResidualConnectionLayer(position_wise_feed_forward_layer, copy.deepcopy(norm_layer))\n",
        "\n",
        "\tdef forward(self, x, mask, encoder_output, encoder_mask):\n",
        "\t\tout = self.masked_multi_head_attention_layer(query=x, key=x, value=x, mask=mask)\n",
        "\t\tout = self.multi_head_attention_layer(query=out, key=encoder_output, value=encoder_output, mask=encoder_mask)\n",
        "\t\tout = self.position_wise_feed_forward_layer(x=out)\n",
        "\t\treturn out"
      ],
      "metadata": {
        "id": "3R-PkwcDTibG"
      },
      "execution_count": 29,
      "outputs": []
    },
    {
      "cell_type": "code",
      "source": [
        "class Transformer(nn.Module):\n",
        "\n",
        "\tdef __init__(self, encoder, decoder):\n",
        "\t\tsuper(Transformer, self).__init__()\n",
        "\t\tself.encoder = encoder\n",
        "\t\tself.decoder = decoder\n",
        "\n",
        "\tdef forward(self, src, trg, src_mask, trg_mask):\n",
        "\t\tencoder_output = self.encoder(src, src_mask)\n",
        "\t\tout = self.decoder(trg, trg_mask, encoder_output, src_mask)\n",
        "\t\treturn out"
      ],
      "metadata": {
        "id": "8g8HZudfTjap"
      },
      "execution_count": 30,
      "outputs": []
    },
    {
      "cell_type": "code",
      "source": [
        "class TransformerEmbedding(nn.Module):\n",
        "\tdef __init__(self, embedding, positional_encoding):\n",
        "\t\tsuper(TransformerEmbedding, self).__init__()\n",
        "\t\tself.embedding = nn.Sequential(embedding, positional_encoding)\n",
        "\n",
        "\tdef forward(self, x):\n",
        "\t\tout = self.embedding(x)\n",
        "\t\treturn out"
      ],
      "metadata": {
        "id": "ZYNQmgMxTku1"
      },
      "execution_count": 31,
      "outputs": []
    },
    {
      "cell_type": "code",
      "source": [
        "class Embedding(nn.Module):\n",
        "\tdef __init__(self, d_embed, vocab):\n",
        "\t\tsuper(Embedding, self).__init__()\n",
        "\t\tself.embedding = nn.Embedding(len(vocab), d_embed)\n",
        "\t\tself.vocab = vocab\n",
        "\t\tself.d_embed = d_embed\n",
        "\n",
        "\tdef forward(self, x):\n",
        "\t\tout = self.embedding(x) * math.sqrt(self.d_embed)\n",
        "\t\treturn out"
      ],
      "metadata": {
        "id": "wTw2Dxs4TrFV"
      },
      "execution_count": 32,
      "outputs": []
    },
    {
      "cell_type": "code",
      "source": [
        "class PositionalEncoding(nn.Module):\n",
        "\tdef __init__(self, d_embed, max_seq_len=5000):\n",
        "\t\tsuper(PositionalEncoding, self).__init__()\n",
        "\t\tencoding = torch.zeros(max_seq_len, d_embed)\n",
        "\t\tposition = torch.arange(0, max_seq_len).unsqueeze(1)\n",
        "\t\tdiv_term = torch.exp(torch.arange(0, d_embed, 2) * -(math.log(10000.0) / d_embed))\n",
        "\t\tencoding[:, 0::2] = torch.sin(position * div_term)\n",
        "\t\tencoding[:, 1::2] = torch.cos(position * div_term)\n",
        "\t\tself.encoding = encoding\n",
        "\t\n",
        "\tdef forward(self, x):\n",
        "\t\tout = x + Variable(self.encoding[:, :x.size(1)], requires_grad=False)\n",
        "\t\tout = self.dropout(out)\n",
        "\t\treturn out"
      ],
      "metadata": {
        "id": "SC_3SBseTscl"
      },
      "execution_count": 33,
      "outputs": []
    },
    {
      "cell_type": "code",
      "source": [
        "class Transformer(nn.Module):\n",
        "\n",
        "\tdef __init__(self, src_embed, trg_embed, encoder, decoder):\n",
        "\t\tsuper(Transformer, self).__init__()\n",
        "\t\tself.src_embed = src_embed\n",
        "\t\tself.trg_embed = trg_embed\n",
        "\t\tself.encoder = encoder\n",
        "\t\tself.decoder = decoder\n",
        "\n",
        "\tdef forward(self, src, trg, src_mask, trg_mask):\n",
        "\t\tencoder_output = self.encoder(self.src_embed(src), src_mask)\n",
        "\t\tout = self.decoder(self.trg_embed(trg), trg_mask, encoder_output, src_mask)\n",
        "\t\treturn out"
      ],
      "metadata": {
        "id": "MVIjYRqBTt_H"
      },
      "execution_count": 34,
      "outputs": []
    },
    {
      "cell_type": "code",
      "source": [
        "class Transformer(nn.Module):\n",
        "\n",
        "\tdef __init__(self, src_embed, trg_embed, encoder, decoder, fc_layer):\n",
        "\t\tsuper(Transformer, self).__init__()\n",
        "\t\tself.src_embed = src_embed\n",
        "\t\tself.trg_embed = trg_embed\n",
        "\t\tself.encoder = encoder\n",
        "\t\tself.decoder = decoder\n",
        "\t\tself.fc_layer = fc_layer\n",
        "\n",
        "\tdef forward(self, src, trg, src_mask, trg_mask):\n",
        "\t\tencoder_output = self.encoder(self.src_embed(src), src_mask)\n",
        "\t\tout = self.decoder(self.trg_embed(trg), trg_mask, encoder_output, src_mask)\n",
        "\t\tout = self.fc_layer(out)\n",
        "\t\tout = F.log_softmax(out, dim=-1)\n",
        "\t\treturn out"
      ],
      "metadata": {
        "id": "z_APJzwlTvlg"
      },
      "execution_count": 35,
      "outputs": []
    },
    {
      "cell_type": "code",
      "source": [
        "def make_model(\n",
        "    src_vocab, \n",
        "    trg_vocab, \n",
        "    d_embed = 512, \n",
        "    n_layer = 6, \n",
        "    d_model = 512, \n",
        "    h = 8, \n",
        "    d_ff = 2048):\n",
        "\n",
        "    cp = lambda x: copy.deepcopy(x)\n",
        "\n",
        "    # multi_head_attention_layer 생성한 뒤 copy해 사용\n",
        "    multi_head_attention_layer = MultiHeadAttentionLayer(\n",
        "                                    d_model = d_model,\n",
        "                                    h = h,\n",
        "                                    qkv_fc_layer = nn.Linear(d_embed, d_model),\n",
        "                                    fc_layer = nn.Linear(d_model, d_embed))\n",
        "\n",
        "    # position_wise_feed_forward_layer 생성한 뒤 copy해 사용    \n",
        "    position_wise_feed_forward_layer = PositionWiseFeedForwardLayer(\n",
        "                                        first_fc_layer = nn.Linear(d_embed, d_ff),\n",
        "                                        second_fc_layer = nn.Linear(d_ff, d_embed))\n",
        "    \n",
        "    # norm_layer 생성한 뒤 copy해 사용\n",
        "    norm_layer = nn.LayerNorm(d_embed, eps=1e-6)\n",
        "\n",
        "    # 실제 model 생성\n",
        "    model = Transformer(\n",
        "                src_embed = TransformerEmbedding(    # SRC embedding 생성\n",
        "                                embedding = Embedding(\n",
        "                                                d_embed = d_embed, \n",
        "                                                vocab = src_vocab), \n",
        "                                positional_encoding = PositionalEncoding(\n",
        "                                                d_embed = d_embed)), \n",
        "\t\n",
        "                trg_embed = TransformerEmbedding(    # TRG embedding 생성\n",
        "                                embedding = Embedding(\n",
        "                                                d_embed = d_embed, \n",
        "                                                vocab = trg_vocab), \n",
        "                                positional_encoding = PositionalEncoding(\n",
        "                                                d_embed = d_embed)),\n",
        "                encoder = Encoder(                    # Encoder 생성\n",
        "                                sub_layer = EncoderLayer(\n",
        "                                                multi_head_attention_layer = cp(multi_head_attention_layer),\n",
        "                                                position_wise_feed_forward_layer = cp(position_wise_feed_forward_layer),\n",
        "                                                norm_layer = cp(norm_layer)),\n",
        "                                n_layer = n_layer),\n",
        "                decoder = Decoder(                    # Decoder 생성\n",
        "                                sub_layer = DecoderLayer(\n",
        "                                                masked_multi_head_attention_layer = cp(multi_head_attention_layer),\n",
        "                                                multi_head_attention_layer = cp(multi_head_attention_layer),\n",
        "                                                position_wise_feed_forward_layer = cp(position_wise_feed_forward_layer),\n",
        "                                                norm_layer = cp(norm_layer)),\n",
        "                                n_layer = n_layer),\n",
        "                fc_layer = nn.Linear(d_model, len(trg_vocab)))    # Generator의 FC Layer 생성\n",
        "    \n",
        "    return model"
      ],
      "metadata": {
        "id": "bJdWRPUQTxCA"
      },
      "execution_count": 36,
      "outputs": []
    },
    {
      "cell_type": "code",
      "source": [
        ""
      ],
      "metadata": {
        "id": "-Hk_pHcqTzD8"
      },
      "execution_count": null,
      "outputs": []
    }
  ]
}