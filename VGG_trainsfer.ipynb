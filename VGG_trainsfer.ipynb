{
  "nbformat": 4,
  "nbformat_minor": 0,
  "metadata": {
    "colab": {
      "name": "VGG-trainsfer.ipynb의 사본",
      "provenance": []
    },
    "kernelspec": {
      "name": "python3",
      "display_name": "Python 3"
    },
    "language_info": {
      "name": "python"
    },
    "accelerator": "GPU"
  },
  "cells": [
    {
      "cell_type": "code",
      "execution_count": 1,
      "metadata": {
        "id": "6b0-11fNFUL0"
      },
      "outputs": [],
      "source": [
        "import urllib.request as request\n",
        "import pandas as pd\n",
        "import tensorflow as tf\n",
        "from tensorflow.keras.preprocessing.image import ImageDataGenerator\n",
        "from tensorflow.keras import layers\n",
        "from tensorflow.keras.callbacks import EarlyStopping\n",
        "from tensorflow.keras.losses import BinaryCrossentropy\n",
        "from tensorflow.keras.models import Sequential\n",
        "from tensorflow.keras.activations import sigmoid, relu\n",
        "from tensorflow.keras.optimizers import Adam\n",
        "from tensorflow.keras.metrics import BinaryAccuracy, Accuracy\n",
        "from tensorflow.keras.applications.vgg16 import VGG16\n",
        "import numpy as np"
      ]
    },
    {
      "cell_type": "code",
      "source": [
        "url = 'https://us13.mailchimp.com/mctx/clicks?url=https%3A%2F%2Fcs.stanford.edu%2Fgroup%2Fmlgroup%2FMURA-v1.1.zip&h=f4fd3fb855fc55693dc0852de9c17bbbe39685ab0b4ce274f8d439df66274a85&v=1&xid=0a66f73932&uid=55365305&pool=contact_facing&subject=MURA-v1.1%3A+Link+To+Dataset'\n",
        "request.urlretrieve(url, 'data.zip')"
      ],
      "metadata": {
        "colab": {
          "base_uri": "https://localhost:8080/"
        },
        "id": "58KoP6sWFfeR",
        "outputId": "db414089-d6d2-4b5f-8bad-b681c0c793dc"
      },
      "execution_count": 2,
      "outputs": [
        {
          "output_type": "execute_result",
          "data": {
            "text/plain": [
              "('data.zip', <http.client.HTTPMessage at 0x7f96cf9e4cd0>)"
            ]
          },
          "metadata": {},
          "execution_count": 2
        }
      ]
    },
    {
      "cell_type": "code",
      "source": [
        "!unzip -q /content/data.zip"
      ],
      "metadata": {
        "id": "GfkhQqMuFjEc"
      },
      "execution_count": 3,
      "outputs": []
    },
    {
      "cell_type": "code",
      "source": [
        "def add_header(path, headers):\n",
        "  df = pd.read_csv(path, names = headers)\n",
        "  df.to_csv(path, index=False)"
      ],
      "metadata": {
        "id": "UCV-qdi-Fmto"
      },
      "execution_count": 4,
      "outputs": []
    },
    {
      "cell_type": "code",
      "source": [
        "add_header('/content/MURA-v1.1/train_image_paths.csv', ['path'])\n",
        "add_header('/content/MURA-v1.1/train_labeled_studies.csv', ['path','label'])\n",
        "\n",
        "add_header('/content/MURA-v1.1/valid_image_paths.csv', ['path'])\n",
        "add_header('/content/MURA-v1.1/valid_labeled_studies.csv', ['path','label'])"
      ],
      "metadata": {
        "id": "PSJhzjQiFpZq"
      },
      "execution_count": 5,
      "outputs": []
    },
    {
      "cell_type": "code",
      "source": [
        "train_paths = pd.read_csv('/content/MURA-v1.1/train_image_paths.csv')\n",
        "train_labels = pd.read_csv('/content/MURA-v1.1/train_labeled_studies.csv')\n",
        "\n",
        "valid_paths = pd.read_csv('/content/MURA-v1.1/valid_image_paths.csv')\n",
        "valid_labels = pd.read_csv('/content/MURA-v1.1/valid_labeled_studies.csv')"
      ],
      "metadata": {
        "id": "XxC-1KdlFtS5"
      },
      "execution_count": 6,
      "outputs": []
    },
    {
      "cell_type": "code",
      "source": [
        "def prepare_data(paths_df, labels_df, sub_folder):\n",
        "  images, labels, folders, images_labels = [], [], [], []\n",
        "\n",
        "  for idx, row in paths_df.iterrows():\n",
        "    if sub_folder in row['path']:\n",
        "      images.append(row['path'])\n",
        "\n",
        "  for idx, row in labels_df.iterrows():\n",
        "    if sub_folder in row['path']:  \n",
        "      folders.append(row['path'])\n",
        "      labels.append(row['label'])\n",
        "\n",
        "  for i in range(len(folders)):\n",
        "    for image in images:\n",
        "      if folders[i] in image:\n",
        "        images_labels.append(labels[i])\n",
        "  \n",
        "  merged_df = pd.DataFrame({'path': images,\n",
        "                          'label': images_labels})\n",
        "  \n",
        "  merged_df['label'] = merged_df['label'].apply(lambda x: str(x))\n",
        "  merged_df['path'] = merged_df['path'].apply(lambda x: '/content/' + x)\n",
        "  return merged_df"
      ],
      "metadata": {
        "id": "HrzDiRH_FyFy"
      },
      "execution_count": 7,
      "outputs": []
    },
    {
      "cell_type": "code",
      "source": [
        "train = prepare_data(train_paths, train_labels, 'XR_WRIST')\n",
        "valid = prepare_data(valid_paths, valid_labels, 'XR_WRIST')"
      ],
      "metadata": {
        "id": "jewFRs1YF1rF"
      },
      "execution_count": 8,
      "outputs": []
    },
    {
      "cell_type": "code",
      "source": [
        "train.head()"
      ],
      "metadata": {
        "colab": {
          "base_uri": "https://localhost:8080/",
          "height": 206
        },
        "id": "W097vJsEF4yS",
        "outputId": "93d4f628-fbfa-4bd4-88f5-42a6003591cd"
      },
      "execution_count": 9,
      "outputs": [
        {
          "output_type": "execute_result",
          "data": {
            "text/plain": [
              "                                                path label\n",
              "0  /content/MURA-v1.1/train/XR_WRIST/patient06359...     1\n",
              "1  /content/MURA-v1.1/train/XR_WRIST/patient06359...     1\n",
              "2  /content/MURA-v1.1/train/XR_WRIST/patient06360...     1\n",
              "3  /content/MURA-v1.1/train/XR_WRIST/patient06360...     1\n",
              "4  /content/MURA-v1.1/train/XR_WRIST/patient06360...     1"
            ],
            "text/html": [
              "\n",
              "  <div id=\"df-55590d0b-101d-42d8-8c00-9e73a537fd50\">\n",
              "    <div class=\"colab-df-container\">\n",
              "      <div>\n",
              "<style scoped>\n",
              "    .dataframe tbody tr th:only-of-type {\n",
              "        vertical-align: middle;\n",
              "    }\n",
              "\n",
              "    .dataframe tbody tr th {\n",
              "        vertical-align: top;\n",
              "    }\n",
              "\n",
              "    .dataframe thead th {\n",
              "        text-align: right;\n",
              "    }\n",
              "</style>\n",
              "<table border=\"1\" class=\"dataframe\">\n",
              "  <thead>\n",
              "    <tr style=\"text-align: right;\">\n",
              "      <th></th>\n",
              "      <th>path</th>\n",
              "      <th>label</th>\n",
              "    </tr>\n",
              "  </thead>\n",
              "  <tbody>\n",
              "    <tr>\n",
              "      <th>0</th>\n",
              "      <td>/content/MURA-v1.1/train/XR_WRIST/patient06359...</td>\n",
              "      <td>1</td>\n",
              "    </tr>\n",
              "    <tr>\n",
              "      <th>1</th>\n",
              "      <td>/content/MURA-v1.1/train/XR_WRIST/patient06359...</td>\n",
              "      <td>1</td>\n",
              "    </tr>\n",
              "    <tr>\n",
              "      <th>2</th>\n",
              "      <td>/content/MURA-v1.1/train/XR_WRIST/patient06360...</td>\n",
              "      <td>1</td>\n",
              "    </tr>\n",
              "    <tr>\n",
              "      <th>3</th>\n",
              "      <td>/content/MURA-v1.1/train/XR_WRIST/patient06360...</td>\n",
              "      <td>1</td>\n",
              "    </tr>\n",
              "    <tr>\n",
              "      <th>4</th>\n",
              "      <td>/content/MURA-v1.1/train/XR_WRIST/patient06360...</td>\n",
              "      <td>1</td>\n",
              "    </tr>\n",
              "  </tbody>\n",
              "</table>\n",
              "</div>\n",
              "      <button class=\"colab-df-convert\" onclick=\"convertToInteractive('df-55590d0b-101d-42d8-8c00-9e73a537fd50')\"\n",
              "              title=\"Convert this dataframe to an interactive table.\"\n",
              "              style=\"display:none;\">\n",
              "        \n",
              "  <svg xmlns=\"http://www.w3.org/2000/svg\" height=\"24px\"viewBox=\"0 0 24 24\"\n",
              "       width=\"24px\">\n",
              "    <path d=\"M0 0h24v24H0V0z\" fill=\"none\"/>\n",
              "    <path d=\"M18.56 5.44l.94 2.06.94-2.06 2.06-.94-2.06-.94-.94-2.06-.94 2.06-2.06.94zm-11 1L8.5 8.5l.94-2.06 2.06-.94-2.06-.94L8.5 2.5l-.94 2.06-2.06.94zm10 10l.94 2.06.94-2.06 2.06-.94-2.06-.94-.94-2.06-.94 2.06-2.06.94z\"/><path d=\"M17.41 7.96l-1.37-1.37c-.4-.4-.92-.59-1.43-.59-.52 0-1.04.2-1.43.59L10.3 9.45l-7.72 7.72c-.78.78-.78 2.05 0 2.83L4 21.41c.39.39.9.59 1.41.59.51 0 1.02-.2 1.41-.59l7.78-7.78 2.81-2.81c.8-.78.8-2.07 0-2.86zM5.41 20L4 18.59l7.72-7.72 1.47 1.35L5.41 20z\"/>\n",
              "  </svg>\n",
              "      </button>\n",
              "      \n",
              "  <style>\n",
              "    .colab-df-container {\n",
              "      display:flex;\n",
              "      flex-wrap:wrap;\n",
              "      gap: 12px;\n",
              "    }\n",
              "\n",
              "    .colab-df-convert {\n",
              "      background-color: #E8F0FE;\n",
              "      border: none;\n",
              "      border-radius: 50%;\n",
              "      cursor: pointer;\n",
              "      display: none;\n",
              "      fill: #1967D2;\n",
              "      height: 32px;\n",
              "      padding: 0 0 0 0;\n",
              "      width: 32px;\n",
              "    }\n",
              "\n",
              "    .colab-df-convert:hover {\n",
              "      background-color: #E2EBFA;\n",
              "      box-shadow: 0px 1px 2px rgba(60, 64, 67, 0.3), 0px 1px 3px 1px rgba(60, 64, 67, 0.15);\n",
              "      fill: #174EA6;\n",
              "    }\n",
              "\n",
              "    [theme=dark] .colab-df-convert {\n",
              "      background-color: #3B4455;\n",
              "      fill: #D2E3FC;\n",
              "    }\n",
              "\n",
              "    [theme=dark] .colab-df-convert:hover {\n",
              "      background-color: #434B5C;\n",
              "      box-shadow: 0px 1px 3px 1px rgba(0, 0, 0, 0.15);\n",
              "      filter: drop-shadow(0px 1px 2px rgba(0, 0, 0, 0.3));\n",
              "      fill: #FFFFFF;\n",
              "    }\n",
              "  </style>\n",
              "\n",
              "      <script>\n",
              "        const buttonEl =\n",
              "          document.querySelector('#df-55590d0b-101d-42d8-8c00-9e73a537fd50 button.colab-df-convert');\n",
              "        buttonEl.style.display =\n",
              "          google.colab.kernel.accessAllowed ? 'block' : 'none';\n",
              "\n",
              "        async function convertToInteractive(key) {\n",
              "          const element = document.querySelector('#df-55590d0b-101d-42d8-8c00-9e73a537fd50');\n",
              "          const dataTable =\n",
              "            await google.colab.kernel.invokeFunction('convertToInteractive',\n",
              "                                                     [key], {});\n",
              "          if (!dataTable) return;\n",
              "\n",
              "          const docLinkHtml = 'Like what you see? Visit the ' +\n",
              "            '<a target=\"_blank\" href=https://colab.research.google.com/notebooks/data_table.ipynb>data table notebook</a>'\n",
              "            + ' to learn more about interactive tables.';\n",
              "          element.innerHTML = '';\n",
              "          dataTable['output_type'] = 'display_data';\n",
              "          await google.colab.output.renderOutput(dataTable, element);\n",
              "          const docLink = document.createElement('div');\n",
              "          docLink.innerHTML = docLinkHtml;\n",
              "          element.appendChild(docLink);\n",
              "        }\n",
              "      </script>\n",
              "    </div>\n",
              "  </div>\n",
              "  "
            ]
          },
          "metadata": {},
          "execution_count": 9
        }
      ]
    },
    {
      "cell_type": "code",
      "source": [
        "train_gen =  ImageDataGenerator(\n",
        " rescale=1./255,\n",
        " rotation_range=50,\n",
        " width_shift_range=0.3,\n",
        " height_shift_range=0.3,\n",
        " shear_range=0.2,\n",
        " zoom_range=[0.5,1.0],\n",
        " brightness_range=[0.2,1.0],\n",
        " horizontal_flip=True,\n",
        " fill_mode='nearest'\n",
        ")\n",
        "\n",
        "valid_gen = ImageDataGenerator(rescale=1./255)"
      ],
      "metadata": {
        "id": "JdrChqmaF70S"
      },
      "execution_count": 10,
      "outputs": []
    },
    {
      "cell_type": "code",
      "source": [
        "train_flow = train_gen.flow_from_dataframe(train, x_col ='path', y_col = 'label', class_mode='binary', target_size=(256, 256))\n",
        "valid_flow = valid_gen.flow_from_dataframe(valid, x_col ='path', y_col = 'label', class_mode='binary', target_size=(256, 256))"
      ],
      "metadata": {
        "colab": {
          "base_uri": "https://localhost:8080/"
        },
        "id": "DIuBAi9AGATR",
        "outputId": "63a2bc0b-a1e5-46bb-f5d5-7c55273b6bb5"
      },
      "execution_count": 11,
      "outputs": [
        {
          "output_type": "stream",
          "name": "stdout",
          "text": [
            "Found 9752 validated image filenames belonging to 2 classes.\n",
            "Found 659 validated image filenames belonging to 2 classes.\n"
          ]
        }
      ]
    },
    {
      "cell_type": "code",
      "source": [
        "pretrained = VGG16(input_shape=(256,256,3),include_top=False, weights=\"imagenet\")"
      ],
      "metadata": {
        "colab": {
          "base_uri": "https://localhost:8080/"
        },
        "id": "G-j8ry8DGEjR",
        "outputId": "88c39a0a-df6d-42e1-dcbd-66b88d75d379"
      },
      "execution_count": 12,
      "outputs": [
        {
          "output_type": "stream",
          "name": "stdout",
          "text": [
            "Downloading data from https://storage.googleapis.com/tensorflow/keras-applications/vgg16/vgg16_weights_tf_dim_ordering_tf_kernels_notop.h5\n",
            "58892288/58889256 [==============================] - 1s 0us/step\n",
            "58900480/58889256 [==============================] - 1s 0us/step\n"
          ]
        }
      ]
    },
    {
      "cell_type": "code",
      "source": [
        "pretrained.summary()"
      ],
      "metadata": {
        "colab": {
          "base_uri": "https://localhost:8080/"
        },
        "id": "aClRKZGViylv",
        "outputId": "d208f736-da6b-4602-b16f-11dc2c7b4d24"
      },
      "execution_count": 13,
      "outputs": [
        {
          "output_type": "stream",
          "name": "stdout",
          "text": [
            "Model: \"vgg16\"\n",
            "_________________________________________________________________\n",
            " Layer (type)                Output Shape              Param #   \n",
            "=================================================================\n",
            " input_1 (InputLayer)        [(None, 256, 256, 3)]     0         \n",
            "                                                                 \n",
            " block1_conv1 (Conv2D)       (None, 256, 256, 64)      1792      \n",
            "                                                                 \n",
            " block1_conv2 (Conv2D)       (None, 256, 256, 64)      36928     \n",
            "                                                                 \n",
            " block1_pool (MaxPooling2D)  (None, 128, 128, 64)      0         \n",
            "                                                                 \n",
            " block2_conv1 (Conv2D)       (None, 128, 128, 128)     73856     \n",
            "                                                                 \n",
            " block2_conv2 (Conv2D)       (None, 128, 128, 128)     147584    \n",
            "                                                                 \n",
            " block2_pool (MaxPooling2D)  (None, 64, 64, 128)       0         \n",
            "                                                                 \n",
            " block3_conv1 (Conv2D)       (None, 64, 64, 256)       295168    \n",
            "                                                                 \n",
            " block3_conv2 (Conv2D)       (None, 64, 64, 256)       590080    \n",
            "                                                                 \n",
            " block3_conv3 (Conv2D)       (None, 64, 64, 256)       590080    \n",
            "                                                                 \n",
            " block3_pool (MaxPooling2D)  (None, 32, 32, 256)       0         \n",
            "                                                                 \n",
            " block4_conv1 (Conv2D)       (None, 32, 32, 512)       1180160   \n",
            "                                                                 \n",
            " block4_conv2 (Conv2D)       (None, 32, 32, 512)       2359808   \n",
            "                                                                 \n",
            " block4_conv3 (Conv2D)       (None, 32, 32, 512)       2359808   \n",
            "                                                                 \n",
            " block4_pool (MaxPooling2D)  (None, 16, 16, 512)       0         \n",
            "                                                                 \n",
            " block5_conv1 (Conv2D)       (None, 16, 16, 512)       2359808   \n",
            "                                                                 \n",
            " block5_conv2 (Conv2D)       (None, 16, 16, 512)       2359808   \n",
            "                                                                 \n",
            " block5_conv3 (Conv2D)       (None, 16, 16, 512)       2359808   \n",
            "                                                                 \n",
            " block5_pool (MaxPooling2D)  (None, 8, 8, 512)         0         \n",
            "                                                                 \n",
            "=================================================================\n",
            "Total params: 14,714,688\n",
            "Trainable params: 14,714,688\n",
            "Non-trainable params: 0\n",
            "_________________________________________________________________\n"
          ]
        }
      ]
    },
    {
      "cell_type": "code",
      "source": [
        "for layer in pretrained.layers:\n",
        " layer.trainable = False"
      ],
      "metadata": {
        "id": "lN-lNGvgi2cB"
      },
      "execution_count": 14,
      "outputs": []
    },
    {
      "cell_type": "code",
      "source": [
        "model = Sequential([pretrained,\n",
        "                    layers.Dropout(0.4),\n",
        "                    layers.Flatten(),\n",
        "                    layers.Dense(1024, activation=relu),\n",
        "                    layers.Dropout(0.3),\n",
        "                    layers.Dense(1, activation=sigmoid)])"
      ],
      "metadata": {
        "id": "q5u0hEfpi7gj"
      },
      "execution_count": 15,
      "outputs": []
    },
    {
      "cell_type": "code",
      "source": [
        "model.summary()"
      ],
      "metadata": {
        "colab": {
          "base_uri": "https://localhost:8080/"
        },
        "id": "noDmVYG7i_D_",
        "outputId": "d834e64a-70de-40ad-f24d-695161289701"
      },
      "execution_count": 16,
      "outputs": [
        {
          "output_type": "stream",
          "name": "stdout",
          "text": [
            "Model: \"sequential\"\n",
            "_________________________________________________________________\n",
            " Layer (type)                Output Shape              Param #   \n",
            "=================================================================\n",
            " vgg16 (Functional)          (None, 8, 8, 512)         14714688  \n",
            "                                                                 \n",
            " dropout (Dropout)           (None, 8, 8, 512)         0         \n",
            "                                                                 \n",
            " flatten (Flatten)           (None, 32768)             0         \n",
            "                                                                 \n",
            " dense (Dense)               (None, 1024)              33555456  \n",
            "                                                                 \n",
            " dropout_1 (Dropout)         (None, 1024)              0         \n",
            "                                                                 \n",
            " dense_1 (Dense)             (None, 1)                 1025      \n",
            "                                                                 \n",
            "=================================================================\n",
            "Total params: 48,271,169\n",
            "Trainable params: 33,556,481\n",
            "Non-trainable params: 14,714,688\n",
            "_________________________________________________________________\n"
          ]
        }
      ]
    },
    {
      "cell_type": "code",
      "source": [
        "model.compile(optimizer=Adam(learning_rate=0.001),\n",
        "              loss=BinaryCrossentropy(),metrics=[BinaryAccuracy()])"
      ],
      "metadata": {
        "id": "SFCYzIWqjCud"
      },
      "execution_count": 17,
      "outputs": []
    },
    {
      "cell_type": "code",
      "source": [
        "callback = tf.keras.callbacks.EarlyStopping(monitor='val_loss', patience=3)\n",
        "\n",
        "history = model.fit(train_flow, epochs=20, validation_data = valid_flow, verbose = 1,callbacks=[callback])"
      ],
      "metadata": {
        "colab": {
          "base_uri": "https://localhost:8080/"
        },
        "id": "6PV8rU0wjFx5",
        "outputId": "15f07afd-7ead-4f28-ed2e-958de1a29dbb"
      },
      "execution_count": 18,
      "outputs": [
        {
          "output_type": "stream",
          "name": "stdout",
          "text": [
            "Epoch 1/20\n",
            "305/305 [==============================] - 249s 768ms/step - loss: 0.8672 - binary_accuracy: 0.5918 - val_loss: 0.6393 - val_binary_accuracy: 0.6434\n",
            "Epoch 2/20\n",
            "305/305 [==============================] - 230s 754ms/step - loss: 0.6505 - binary_accuracy: 0.6133 - val_loss: 0.6602 - val_binary_accuracy: 0.5797\n",
            "Epoch 3/20\n",
            "305/305 [==============================] - 229s 751ms/step - loss: 0.6398 - binary_accuracy: 0.6295 - val_loss: 0.6309 - val_binary_accuracy: 0.6313\n",
            "Epoch 4/20\n",
            "305/305 [==============================] - 229s 751ms/step - loss: 0.6336 - binary_accuracy: 0.6352 - val_loss: 0.5975 - val_binary_accuracy: 0.6829\n",
            "Epoch 5/20\n",
            "305/305 [==============================] - 228s 747ms/step - loss: 0.6376 - binary_accuracy: 0.6252 - val_loss: 0.6071 - val_binary_accuracy: 0.6662\n",
            "Epoch 6/20\n",
            "305/305 [==============================] - 228s 747ms/step - loss: 0.6387 - binary_accuracy: 0.6295 - val_loss: 0.6627 - val_binary_accuracy: 0.5903\n",
            "Epoch 7/20\n",
            "305/305 [==============================] - 228s 746ms/step - loss: 0.6336 - binary_accuracy: 0.6354 - val_loss: 0.5901 - val_binary_accuracy: 0.6722\n",
            "Epoch 8/20\n",
            "305/305 [==============================] - 228s 746ms/step - loss: 0.6277 - binary_accuracy: 0.6368 - val_loss: 0.6154 - val_binary_accuracy: 0.5948\n",
            "Epoch 9/20\n",
            "305/305 [==============================] - 227s 744ms/step - loss: 0.6253 - binary_accuracy: 0.6422 - val_loss: 0.6234 - val_binary_accuracy: 0.6571\n",
            "Epoch 10/20\n",
            "305/305 [==============================] - 236s 773ms/step - loss: 0.6257 - binary_accuracy: 0.6439 - val_loss: 0.6192 - val_binary_accuracy: 0.6601\n"
          ]
        }
      ]
    },
    {
      "cell_type": "code",
      "source": [
        "history"
      ],
      "metadata": {
        "colab": {
          "base_uri": "https://localhost:8080/"
        },
        "id": "Yh4YNgctt5LJ",
        "outputId": "1a904404-0c54-43a2-bea1-90da93d3c72a"
      },
      "execution_count": 20,
      "outputs": [
        {
          "output_type": "execute_result",
          "data": {
            "text/plain": [
              "<keras.callbacks.History at 0x7f96c0211b90>"
            ]
          },
          "metadata": {},
          "execution_count": 20
        }
      ]
    },
    {
      "cell_type": "code",
      "source": [
        ""
      ],
      "metadata": {
        "id": "wEg0U88p2zlH"
      },
      "execution_count": null,
      "outputs": []
    }
  ]
}